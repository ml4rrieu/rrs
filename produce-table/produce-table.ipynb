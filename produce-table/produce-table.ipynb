{
 "cells": [
  {
   "cell_type": "code",
   "execution_count": 2,
   "id": "b7170dc4",
   "metadata": {},
   "outputs": [
    {
     "name": "stdout",
     "output_type": "stream",
     "text": [
      "Didn't recognize theme name: l\n",
      "Available Themes: \n",
      "   chesterish\n",
      "   grade3\n",
      "   gruvboxd\n",
      "   gruvboxl\n",
      "   monokai\n",
      "   oceans16\n",
      "   onedork\n",
      "   solarizedd\n",
      "   solarizedl\n"
     ]
    }
   ],
   "source": [
    "!jt -t l"
   ]
  },
  {
   "cell_type": "code",
   "execution_count": 3,
   "id": "e19df0ab",
   "metadata": {},
   "outputs": [],
   "source": [
    "import requests, json, pandas as pd, numpy as np"
   ]
  },
  {
   "cell_type": "markdown",
   "id": "2b0241d4",
   "metadata": {},
   "source": [
    "## Get medata from HAL"
   ]
  },
  {
   "cell_type": "code",
   "execution_count": 4,
   "id": "f709f7c0",
   "metadata": {},
   "outputs": [],
   "source": [
    "hal_req = \"\"\"\n",
    "https://api.archives-ouvertes.fr/search/?q=fulltext_t:\\\n",
    "((\"applied a CC BY public copyright\") OR (\"applied a CC-BY public copyright\")\\\n",
    "OR (\"appliqué une licence CC BY\") OR (\"appliqué une licence CC-BY\") )\\\n",
    "&rows=5000&sort=submittedDate_tdate desc&\\\n",
    "fl=halId_s,doiId_s,docType_s,primaryDomain_s,journalIssn_s,submittedDate_s,europeanProjectAcronym_s,anrProjectAcronym_s,journalPublisher_s,publisher_s\n",
    "\"\"\""
   ]
  },
  {
   "cell_type": "code",
   "execution_count": 5,
   "id": "68aab598",
   "metadata": {},
   "outputs": [
    {
     "name": "stdout",
     "output_type": "stream",
     "text": [
      "total of publications 99\n"
     ]
    }
   ],
   "source": [
    "req_raw = requests.get(hal_req)\n",
    "req_json = req_raw.json()\n",
    "print(\"total of publications\", req_json[\"response\"][\"numFound\"])"
   ]
  },
  {
   "cell_type": "code",
   "execution_count": 6,
   "id": "131356ca",
   "metadata": {},
   "outputs": [
    {
     "data": {
      "text/html": [
       "<div>\n",
       "<style scoped>\n",
       "    .dataframe tbody tr th:only-of-type {\n",
       "        vertical-align: middle;\n",
       "    }\n",
       "\n",
       "    .dataframe tbody tr th {\n",
       "        vertical-align: top;\n",
       "    }\n",
       "\n",
       "    .dataframe thead th {\n",
       "        text-align: right;\n",
       "    }\n",
       "</style>\n",
       "<table border=\"1\" class=\"dataframe\">\n",
       "  <thead>\n",
       "    <tr style=\"text-align: right;\">\n",
       "      <th></th>\n",
       "      <th>primaryDomain_s</th>\n",
       "      <th>journalPublisher_s</th>\n",
       "      <th>journalIssn_s</th>\n",
       "      <th>anrProjectAcronym_s</th>\n",
       "      <th>halId_s</th>\n",
       "      <th>docType_s</th>\n",
       "      <th>doiId_s</th>\n",
       "      <th>submittedDate_s</th>\n",
       "      <th>europeanProjectAcronym_s</th>\n",
       "      <th>publisher_s</th>\n",
       "    </tr>\n",
       "  </thead>\n",
       "  <tbody>\n",
       "    <tr>\n",
       "      <th>80</th>\n",
       "      <td>sdv</td>\n",
       "      <td>BioMed Central</td>\n",
       "      <td>1756-3305</td>\n",
       "      <td>[FutureHealthSEA]</td>\n",
       "      <td>hal-03472238</td>\n",
       "      <td>ART</td>\n",
       "      <td>10.1186/s13071-021-05042-4</td>\n",
       "      <td>2021-12-09 11:26:17</td>\n",
       "      <td>NaN</td>\n",
       "      <td>NaN</td>\n",
       "    </tr>\n",
       "  </tbody>\n",
       "</table>\n",
       "</div>"
      ],
      "text/plain": [
       "   primaryDomain_s journalPublisher_s journalIssn_s anrProjectAcronym_s  \\\n",
       "80             sdv     BioMed Central     1756-3305   [FutureHealthSEA]   \n",
       "\n",
       "         halId_s docType_s                     doiId_s      submittedDate_s  \\\n",
       "80  hal-03472238       ART  10.1186/s13071-021-05042-4  2021-12-09 11:26:17   \n",
       "\n",
       "   europeanProjectAcronym_s publisher_s  \n",
       "80                      NaN         NaN  "
      ]
     },
     "execution_count": 6,
     "metadata": {},
     "output_type": "execute_result"
    }
   ],
   "source": [
    "## transform json to dataframe\n",
    "req_data = req_json[\"response\"][\"docs\"]\n",
    "df = pd.DataFrame(req_data)\n",
    "df.sample(1)"
   ]
  },
  {
   "cell_type": "code",
   "execution_count": 7,
   "id": "2c29b818",
   "metadata": {},
   "outputs": [
    {
     "data": {
      "text/plain": [
       "ART            80\n",
       "UNDEFINED      13\n",
       "COMM            4\n",
       "PROCEEDINGS     1\n",
       "THESE           1\n",
       "Name: docType_s, dtype: int64"
      ]
     },
     "execution_count": 7,
     "metadata": {},
     "output_type": "execute_result"
    }
   ],
   "source": [
    "## view doctype distribution\n",
    "df[\"docType_s\"].value_counts()"
   ]
  },
  {
   "cell_type": "markdown",
   "id": "d8dfa322",
   "metadata": {},
   "source": [
    "## Enrich with unpaywall"
   ]
  },
  {
   "cell_type": "code",
   "execution_count": 8,
   "id": "c0f63974",
   "metadata": {},
   "outputs": [],
   "source": [
    "def get_upw(doi):\n",
    "    # memo https://api.unpaywall.org/v2/10.1101/2021.05.24.445406?email=maxence.larrieu@u-paris.fr\n",
    "    req = requests.get(f\"https://api.unpaywall.org/v2/{doi}?email=maxence.larrieu@u-paris.fr\")\n",
    "    res = req.json()\n",
    "    \n",
    "    # get issns\n",
    "    issns = res.get(\"journal_issns\")\n",
    "    \n",
    "    # deduce if vor is oa\n",
    "    vor_is_oa = False\n",
    "    if res.get(\"best_oa_location\"):\n",
    "        best_loc = res[\"best_oa_location\"]\n",
    "        vor_is_oa = True if best_loc[\"version\"] == \"publishedVersion\" else False\n",
    "    \n",
    "    return [issns, vor_is_oa]"
   ]
  },
  {
   "cell_type": "code",
   "execution_count": 9,
   "id": "71f6ee1b",
   "metadata": {},
   "outputs": [
    {
     "data": {
      "text/plain": [
       "['1355-7718,1469-8153', False]"
      ]
     },
     "execution_count": 9,
     "metadata": {},
     "output_type": "execute_result"
    }
   ],
   "source": [
    "## pour tester\n",
    "# memo closed doi 10.1017/S135577181900030X\n",
    "get_upw(\"10.1017/S135577181900030X\")"
   ]
  },
  {
   "cell_type": "code",
   "execution_count": 10,
   "id": "41aa5ecd",
   "metadata": {},
   "outputs": [],
   "source": [
    "## add upw_issn & upw_vor_is_oa to table\n",
    "df[[\"upw_issns\", \"upw_vor_is_oa\" ]] = df.apply(\n",
    "    lambda row : get_upw(row[\"doiId_s\"]), axis = 1, result_type = \"expand\")"
   ]
  },
  {
   "cell_type": "markdown",
   "id": "9feed879",
   "metadata": {},
   "source": [
    "# Reorder dataframe columns to prepare HTML display"
   ]
  },
  {
   "cell_type": "code",
   "execution_count": 11,
   "id": "35d8a5d3",
   "metadata": {},
   "outputs": [
    {
     "data": {
      "text/html": [
       "<div>\n",
       "<style scoped>\n",
       "    .dataframe tbody tr th:only-of-type {\n",
       "        vertical-align: middle;\n",
       "    }\n",
       "\n",
       "    .dataframe tbody tr th {\n",
       "        vertical-align: top;\n",
       "    }\n",
       "\n",
       "    .dataframe thead th {\n",
       "        text-align: right;\n",
       "    }\n",
       "</style>\n",
       "<table border=\"1\" class=\"dataframe\">\n",
       "  <thead>\n",
       "    <tr style=\"text-align: right;\">\n",
       "      <th></th>\n",
       "      <th>primaryDomain_s</th>\n",
       "      <th>journalPublisher_s</th>\n",
       "      <th>journalIssn_s</th>\n",
       "      <th>anrProjectAcronym_s</th>\n",
       "      <th>halId_s</th>\n",
       "      <th>docType_s</th>\n",
       "      <th>doiId_s</th>\n",
       "      <th>submittedDate_s</th>\n",
       "      <th>europeanProjectAcronym_s</th>\n",
       "      <th>publisher_s</th>\n",
       "      <th>upw_issns</th>\n",
       "      <th>upw_vor_is_oa</th>\n",
       "    </tr>\n",
       "  </thead>\n",
       "  <tbody>\n",
       "    <tr>\n",
       "      <th>59</th>\n",
       "      <td>sdv</td>\n",
       "      <td>Nature Publishing Group</td>\n",
       "      <td>2041-1723</td>\n",
       "      <td>NaN</td>\n",
       "      <td>hal-03684839</td>\n",
       "      <td>ART</td>\n",
       "      <td>10.1038/s41467-021-25649-6</td>\n",
       "      <td>2022-06-01</td>\n",
       "      <td>NaN</td>\n",
       "      <td>NaN</td>\n",
       "      <td>2041-1723</td>\n",
       "      <td>True</td>\n",
       "    </tr>\n",
       "    <tr>\n",
       "      <th>65</th>\n",
       "      <td>sdv.bbm.bc</td>\n",
       "      <td>Wiley-VCH Verlag</td>\n",
       "      <td>0265-9247</td>\n",
       "      <td>[DEFineNMD]</td>\n",
       "      <td>pasteur-03606359</td>\n",
       "      <td>ART</td>\n",
       "      <td>10.1002/bies.202100296</td>\n",
       "      <td>2022-03-11</td>\n",
       "      <td>NaN</td>\n",
       "      <td>NaN</td>\n",
       "      <td>0265-9247,1521-1878</td>\n",
       "      <td>True</td>\n",
       "    </tr>\n",
       "  </tbody>\n",
       "</table>\n",
       "</div>"
      ],
      "text/plain": [
       "   primaryDomain_s       journalPublisher_s journalIssn_s anrProjectAcronym_s  \\\n",
       "59             sdv  Nature Publishing Group     2041-1723                 NaN   \n",
       "65      sdv.bbm.bc         Wiley-VCH Verlag     0265-9247         [DEFineNMD]   \n",
       "\n",
       "             halId_s docType_s                     doiId_s submittedDate_s  \\\n",
       "59      hal-03684839       ART  10.1038/s41467-021-25649-6      2022-06-01   \n",
       "65  pasteur-03606359       ART      10.1002/bies.202100296      2022-03-11   \n",
       "\n",
       "   europeanProjectAcronym_s publisher_s            upw_issns  upw_vor_is_oa  \n",
       "59                      NaN         NaN            2041-1723           True  \n",
       "65                      NaN         NaN  0265-9247,1521-1878           True  "
      ]
     },
     "execution_count": 11,
     "metadata": {},
     "output_type": "execute_result"
    }
   ],
   "source": [
    "## shorter submittedDAte (no hours info)\n",
    "### 2022-12-12 is 10 carac length\n",
    "df[\"submittedDate_s\"] = df[\"submittedDate_s\"].str.slice(0,10)\n",
    "df.sample(2)"
   ]
  },
  {
   "cell_type": "code",
   "execution_count": 12,
   "id": "c7532e71",
   "metadata": {},
   "outputs": [],
   "source": [
    "## make european & anrproject columns boolean (True if data else False)\n",
    "df[\"europeanProjectAcronym_s\"] = df[\"europeanProjectAcronym_s\"].notna()\n",
    "df[\"anrProjectAcronym_s\"] = df[\"anrProjectAcronym_s\"].notna()"
   ]
  },
  {
   "cell_type": "code",
   "execution_count": 13,
   "id": "a7ca43af",
   "metadata": {},
   "outputs": [],
   "source": [
    "def deduce_funders(row) : \n",
    "    \"\"\"\n",
    "    create a column to indicate the funder, either ANR or Europe or both\n",
    "    \"\"\"\n",
    "    if row[\"europeanProjectAcronym_s\"] & row[\"anrProjectAcronym_s\"] : \n",
    "        return \"Europe & ANR\"\n",
    "    \n",
    "    elif row[\"europeanProjectAcronym_s\"] : \n",
    "        return \"Europe\"\n",
    "    \n",
    "    elif row[\"anrProjectAcronym_s\"] : \n",
    "        return \"ANR\""
   ]
  },
  {
   "cell_type": "code",
   "execution_count": 14,
   "id": "4f15eb22",
   "metadata": {},
   "outputs": [],
   "source": [
    "df[\"funded_project\"] = df.apply(lambda row : deduce_funders(row), axis = 1)"
   ]
  },
  {
   "cell_type": "code",
   "execution_count": 15,
   "id": "22ba418d",
   "metadata": {},
   "outputs": [],
   "source": [
    "## make simpler document types\n",
    "doctype_matcher = {\n",
    "     \"ART\" : \"article\", \n",
    "     \"UNDEFINED\" : \"preprint\",\n",
    "     \"PROCEEDINGS\" : \"proceedings\",\n",
    "     \"OUV\" : \"book\",\n",
    "     \"COUV\" : \"book\", \n",
    "     \"ISSUE\" : \"issue\"\n",
    "    }"
   ]
  },
  {
   "cell_type": "code",
   "execution_count": 16,
   "id": "c9120845",
   "metadata": {},
   "outputs": [],
   "source": [
    "def change_doctype(hal_doctype) :\n",
    "    \"\"\"\n",
    "    change document types for less information\n",
    "    \"\"\"\n",
    "    if hal_doctype in doctype_matcher.keys() : \n",
    "        return doctype_matcher[hal_doctype]\n",
    "    else : \n",
    "        return \"other\""
   ]
  },
  {
   "cell_type": "code",
   "execution_count": 17,
   "id": "f344afd8",
   "metadata": {},
   "outputs": [],
   "source": [
    "df[\"docType_s\"] = df[\"docType_s\"].apply(lambda x : change_doctype(x))"
   ]
  },
  {
   "cell_type": "code",
   "execution_count": 18,
   "id": "4d5251cc",
   "metadata": {},
   "outputs": [
    {
     "data": {
      "text/plain": [
       "article        80\n",
       "preprint       13\n",
       "other           5\n",
       "proceedings     1\n",
       "Name: docType_s, dtype: int64"
      ]
     },
     "execution_count": 18,
     "metadata": {},
     "output_type": "execute_result"
    }
   ],
   "source": [
    "df.docType_s.value_counts()"
   ]
  },
  {
   "cell_type": "code",
   "execution_count": 19,
   "id": "d145701f",
   "metadata": {},
   "outputs": [
    {
     "data": {
      "text/plain": [
       "Index(['primaryDomain_s', 'journalPublisher_s', 'journalIssn_s',\n",
       "       'anrProjectAcronym_s', 'halId_s', 'docType_s', 'doiId_s',\n",
       "       'submittedDate_s', 'europeanProjectAcronym_s', 'publisher_s',\n",
       "       'upw_issns', 'upw_vor_is_oa', 'funded_project'],\n",
       "      dtype='object')"
      ]
     },
     "execution_count": 19,
     "metadata": {},
     "output_type": "execute_result"
    }
   ],
   "source": [
    "df.columns"
   ]
  },
  {
   "cell_type": "code",
   "execution_count": 20,
   "id": "215c3a66",
   "metadata": {},
   "outputs": [],
   "source": [
    "## remove columns\n",
    "# /!\\/!\\/!\\ first verify column existance /!\\/!\\/!\\\n",
    "df_export = df.drop(\n",
    "    [\"primaryDomain_s\", \"journalIssn_s\", \"doiId_s\", \"upw_issns\", \"anrProjectAcronym_s\", \"europeanProjectAcronym_s\" ], \n",
    "    axis = 1)"
   ]
  },
  {
   "cell_type": "code",
   "execution_count": 21,
   "id": "fb449883",
   "metadata": {},
   "outputs": [
    {
     "data": {
      "text/plain": [
       "Index(['journalPublisher_s', 'halId_s', 'docType_s', 'submittedDate_s',\n",
       "       'publisher_s', 'upw_vor_is_oa', 'funded_project'],\n",
       "      dtype='object')"
      ]
     },
     "execution_count": 21,
     "metadata": {},
     "output_type": "execute_result"
    }
   ],
   "source": [
    "df_export.columns"
   ]
  },
  {
   "cell_type": "code",
   "execution_count": 22,
   "id": "0a25b701",
   "metadata": {},
   "outputs": [],
   "source": [
    "## reorder column\n",
    "df_export = df[[\"halId_s\", \"docType_s\", \"journalPublisher_s\", \"upw_vor_is_oa\", \"funded_project\", \"submittedDate_s\"]]"
   ]
  },
  {
   "cell_type": "code",
   "execution_count": 23,
   "id": "185de0a1",
   "metadata": {},
   "outputs": [],
   "source": [
    "## rename columns\n",
    "df_export = df_export.rename(columns = \n",
    "                 {'halId_s':'HAL URI', \n",
    "                  'docType_s':'genre', \n",
    "                  \"journalPublisher_s\" : \"publisher\",\n",
    "                  \"upw_vor_is_oa\" : \"publisher vers.\\nis OA\",\n",
    "                  \"funded_project\" : \"European/ANR project\",\n",
    "                  \"submittedDate_s\" : \"deposit date\"\n",
    "                 })"
   ]
  },
  {
   "cell_type": "code",
   "execution_count": 24,
   "id": "1c81b588",
   "metadata": {},
   "outputs": [],
   "source": [
    "df_export.to_csv(\"../fr-publications-rrs-applied.csv\", index = False)"
   ]
  },
  {
   "cell_type": "code",
   "execution_count": null,
   "id": "347d02cc",
   "metadata": {},
   "outputs": [],
   "source": []
  }
 ],
 "metadata": {
  "kernelspec": {
   "display_name": "Python 3 (ipykernel)",
   "language": "python",
   "name": "python3"
  },
  "language_info": {
   "codemirror_mode": {
    "name": "ipython",
    "version": 3
   },
   "file_extension": ".py",
   "mimetype": "text/x-python",
   "name": "python",
   "nbconvert_exporter": "python",
   "pygments_lexer": "ipython3",
   "version": "3.9.7"
  }
 },
 "nbformat": 4,
 "nbformat_minor": 5
}
