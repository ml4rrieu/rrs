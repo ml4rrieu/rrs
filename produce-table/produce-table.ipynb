{
 "cells": [
  {
   "cell_type": "code",
   "execution_count": 1,
   "id": "b7170dc4",
   "metadata": {},
   "outputs": [
    {
     "name": "stdout",
     "output_type": "stream",
     "text": [
      "Didn't recognize theme name: l\n",
      "Available Themes: \n",
      "   chesterish\n",
      "   grade3\n",
      "   gruvboxd\n",
      "   gruvboxl\n",
      "   monokai\n",
      "   oceans16\n",
      "   onedork\n",
      "   solarizedd\n",
      "   solarizedl\n"
     ]
    }
   ],
   "source": [
    "!jt -t l"
   ]
  },
  {
   "cell_type": "code",
   "execution_count": 1,
   "id": "e19df0ab",
   "metadata": {},
   "outputs": [],
   "source": [
    "import requests, json, pandas as pd, numpy as np"
   ]
  },
  {
   "cell_type": "markdown",
   "id": "2b0241d4",
   "metadata": {},
   "source": [
    "## Get medata from HAL"
   ]
  },
  {
   "cell_type": "code",
   "execution_count": 2,
   "id": "f709f7c0",
   "metadata": {},
   "outputs": [],
   "source": [
    "hal_req = \"\"\"\n",
    "https://api.archives-ouvertes.fr/search/?q=fulltext_t:\\\n",
    "((\"applied a CC BY public copyright\") OR (\"applied a CC-BY public copyright\")\\\n",
    "OR (\"appliqué une licence CC BY\") OR (\"appliqué une licence CC-BY\") )\\\n",
    "&rows=5000&sort=submittedDate_tdate desc&\\\n",
    "fl=halId_s,doiId_s,docType_s,primaryDomain_s,journalIssn_s,submittedDate_s,europeanProjectAcronym_s,anrProjectAcronym_s,journalPublisher_s,publisher_s\n",
    "\"\"\""
   ]
  },
  {
   "cell_type": "code",
   "execution_count": 3,
   "id": "68aab598",
   "metadata": {},
   "outputs": [
    {
     "name": "stdout",
     "output_type": "stream",
     "text": [
      "total of publications 87\n"
     ]
    }
   ],
   "source": [
    "req_raw = requests.get(hal_req)\n",
    "req_json = req_raw.json()\n",
    "print(\"total of publications\", req_json[\"response\"][\"numFound\"])"
   ]
  },
  {
   "cell_type": "code",
   "execution_count": 4,
   "id": "131356ca",
   "metadata": {},
   "outputs": [
    {
     "data": {
      "text/html": [
       "<div>\n",
       "<style scoped>\n",
       "    .dataframe tbody tr th:only-of-type {\n",
       "        vertical-align: middle;\n",
       "    }\n",
       "\n",
       "    .dataframe tbody tr th {\n",
       "        vertical-align: top;\n",
       "    }\n",
       "\n",
       "    .dataframe thead th {\n",
       "        text-align: right;\n",
       "    }\n",
       "</style>\n",
       "<table border=\"1\" class=\"dataframe\">\n",
       "  <thead>\n",
       "    <tr style=\"text-align: right;\">\n",
       "      <th></th>\n",
       "      <th>primaryDomain_s</th>\n",
       "      <th>anrProjectAcronym_s</th>\n",
       "      <th>halId_s</th>\n",
       "      <th>docType_s</th>\n",
       "      <th>submittedDate_s</th>\n",
       "      <th>journalPublisher_s</th>\n",
       "      <th>journalIssn_s</th>\n",
       "      <th>doiId_s</th>\n",
       "      <th>europeanProjectAcronym_s</th>\n",
       "      <th>publisher_s</th>\n",
       "    </tr>\n",
       "  </thead>\n",
       "  <tbody>\n",
       "    <tr>\n",
       "      <th>62</th>\n",
       "      <td>sdv.mp.pro</td>\n",
       "      <td>[METHEVOL, Arch-Evol]</td>\n",
       "      <td>hal-03521407</td>\n",
       "      <td>ART</td>\n",
       "      <td>2022-01-13 10:00:57</td>\n",
       "      <td>Nature Publishing Group</td>\n",
       "      <td>2058-5276</td>\n",
       "      <td>10.1038/s41564-021-01020-9</td>\n",
       "      <td>NaN</td>\n",
       "      <td>NaN</td>\n",
       "    </tr>\n",
       "  </tbody>\n",
       "</table>\n",
       "</div>"
      ],
      "text/plain": [
       "   primaryDomain_s    anrProjectAcronym_s       halId_s docType_s  \\\n",
       "62      sdv.mp.pro  [METHEVOL, Arch-Evol]  hal-03521407       ART   \n",
       "\n",
       "        submittedDate_s       journalPublisher_s journalIssn_s  \\\n",
       "62  2022-01-13 10:00:57  Nature Publishing Group     2058-5276   \n",
       "\n",
       "                       doiId_s europeanProjectAcronym_s publisher_s  \n",
       "62  10.1038/s41564-021-01020-9                      NaN         NaN  "
      ]
     },
     "execution_count": 4,
     "metadata": {},
     "output_type": "execute_result"
    }
   ],
   "source": [
    "## transform json to dataframe\n",
    "req_data = req_json[\"response\"][\"docs\"]\n",
    "df = pd.DataFrame(req_data)\n",
    "df.sample(1)"
   ]
  },
  {
   "cell_type": "code",
   "execution_count": 5,
   "id": "2c29b818",
   "metadata": {},
   "outputs": [
    {
     "data": {
      "text/plain": [
       "ART            70\n",
       "UNDEFINED      11\n",
       "COMM            4\n",
       "PROCEEDINGS     1\n",
       "THESE           1\n",
       "Name: docType_s, dtype: int64"
      ]
     },
     "execution_count": 5,
     "metadata": {},
     "output_type": "execute_result"
    }
   ],
   "source": [
    "## view doctype distribution\n",
    "df[\"docType_s\"].value_counts()"
   ]
  },
  {
   "cell_type": "markdown",
   "id": "d8dfa322",
   "metadata": {},
   "source": [
    "## Enrich with unpaywall"
   ]
  },
  {
   "cell_type": "code",
   "execution_count": 6,
   "id": "c0f63974",
   "metadata": {},
   "outputs": [],
   "source": [
    "def get_upw(doi):\n",
    "    # memo https://api.unpaywall.org/v2/10.1101/2021.05.24.445406?email=maxence.larrieu@u-paris.fr\n",
    "    req = requests.get(f\"https://api.unpaywall.org/v2/{doi}?email=maxence.larrieu@u-paris.fr\")\n",
    "    res = req.json()\n",
    "    \n",
    "    # get issns\n",
    "    issns = res.get(\"journal_issns\")\n",
    "    \n",
    "    # deduce if vor is oa\n",
    "    vor_is_oa = False\n",
    "    if res.get(\"best_oa_location\"):\n",
    "        best_loc = res[\"best_oa_location\"]\n",
    "        vor_is_oa = True if best_loc[\"version\"] == \"publishedVersion\" else False\n",
    "    \n",
    "    return [issns, vor_is_oa]"
   ]
  },
  {
   "cell_type": "code",
   "execution_count": 7,
   "id": "71f6ee1b",
   "metadata": {},
   "outputs": [
    {
     "data": {
      "text/plain": [
       "['1355-7718,1469-8153', False]"
      ]
     },
     "execution_count": 7,
     "metadata": {},
     "output_type": "execute_result"
    }
   ],
   "source": [
    "## pour tester\n",
    "# memo closed doi 10.1017/S135577181900030X\n",
    "get_upw(\"10.1017/S135577181900030X\")"
   ]
  },
  {
   "cell_type": "code",
   "execution_count": 8,
   "id": "41aa5ecd",
   "metadata": {},
   "outputs": [],
   "source": [
    "## add upw_issn & upw_vor_is_oa to table\n",
    "df[[\"upw_issns\", \"upw_vor_is_oa\" ]] = df.apply(\n",
    "    lambda row : get_upw(row[\"doiId_s\"]), axis = 1, result_type = \"expand\")"
   ]
  },
  {
   "cell_type": "markdown",
   "id": "9feed879",
   "metadata": {},
   "source": [
    "# Reorder dataframe columns to prepare HTML display"
   ]
  },
  {
   "cell_type": "code",
   "execution_count": 9,
   "id": "35d8a5d3",
   "metadata": {},
   "outputs": [
    {
     "data": {
      "text/html": [
       "<div>\n",
       "<style scoped>\n",
       "    .dataframe tbody tr th:only-of-type {\n",
       "        vertical-align: middle;\n",
       "    }\n",
       "\n",
       "    .dataframe tbody tr th {\n",
       "        vertical-align: top;\n",
       "    }\n",
       "\n",
       "    .dataframe thead th {\n",
       "        text-align: right;\n",
       "    }\n",
       "</style>\n",
       "<table border=\"1\" class=\"dataframe\">\n",
       "  <thead>\n",
       "    <tr style=\"text-align: right;\">\n",
       "      <th></th>\n",
       "      <th>primaryDomain_s</th>\n",
       "      <th>anrProjectAcronym_s</th>\n",
       "      <th>halId_s</th>\n",
       "      <th>docType_s</th>\n",
       "      <th>submittedDate_s</th>\n",
       "      <th>journalPublisher_s</th>\n",
       "      <th>journalIssn_s</th>\n",
       "      <th>doiId_s</th>\n",
       "      <th>europeanProjectAcronym_s</th>\n",
       "      <th>publisher_s</th>\n",
       "      <th>upw_issns</th>\n",
       "      <th>upw_vor_is_oa</th>\n",
       "    </tr>\n",
       "  </thead>\n",
       "  <tbody>\n",
       "    <tr>\n",
       "      <th>51</th>\n",
       "      <td>sdv</td>\n",
       "      <td>[FutureHealthSEA]</td>\n",
       "      <td>hal-03648068</td>\n",
       "      <td>ART</td>\n",
       "      <td>2022-04-21</td>\n",
       "      <td>Public Library of Science</td>\n",
       "      <td>1935-2727</td>\n",
       "      <td>10.1371/journal.pntd.0010256</td>\n",
       "      <td>NaN</td>\n",
       "      <td>NaN</td>\n",
       "      <td>1935-2735</td>\n",
       "      <td>True</td>\n",
       "    </tr>\n",
       "    <tr>\n",
       "      <th>50</th>\n",
       "      <td>sdv.bbm.bc</td>\n",
       "      <td>NaN</td>\n",
       "      <td>pasteur-03648366</td>\n",
       "      <td>ART</td>\n",
       "      <td>2022-04-21</td>\n",
       "      <td>National Academy of Sciences</td>\n",
       "      <td>0027-8424</td>\n",
       "      <td>10.1073/pnas.2122161119</td>\n",
       "      <td>NaN</td>\n",
       "      <td>NaN</td>\n",
       "      <td>0027-8424,1091-6490</td>\n",
       "      <td>True</td>\n",
       "    </tr>\n",
       "  </tbody>\n",
       "</table>\n",
       "</div>"
      ],
      "text/plain": [
       "   primaryDomain_s anrProjectAcronym_s           halId_s docType_s  \\\n",
       "51             sdv   [FutureHealthSEA]      hal-03648068       ART   \n",
       "50      sdv.bbm.bc                 NaN  pasteur-03648366       ART   \n",
       "\n",
       "   submittedDate_s            journalPublisher_s journalIssn_s  \\\n",
       "51      2022-04-21     Public Library of Science     1935-2727   \n",
       "50      2022-04-21  National Academy of Sciences     0027-8424   \n",
       "\n",
       "                         doiId_s europeanProjectAcronym_s publisher_s  \\\n",
       "51  10.1371/journal.pntd.0010256                      NaN         NaN   \n",
       "50       10.1073/pnas.2122161119                      NaN         NaN   \n",
       "\n",
       "              upw_issns  upw_vor_is_oa  \n",
       "51            1935-2735           True  \n",
       "50  0027-8424,1091-6490           True  "
      ]
     },
     "execution_count": 9,
     "metadata": {},
     "output_type": "execute_result"
    }
   ],
   "source": [
    "## shorter submittedDAte (no hours info)\n",
    "### 2022-12-12 is 10 carac length\n",
    "df[\"submittedDate_s\"] = df[\"submittedDate_s\"].str.slice(0,10)\n",
    "df.sample(2)"
   ]
  },
  {
   "cell_type": "code",
   "execution_count": 10,
   "id": "c7532e71",
   "metadata": {},
   "outputs": [],
   "source": [
    "## make european & anrproject columns boolean (True if data else False)\n",
    "df[\"europeanProjectAcronym_s\"] = df[\"europeanProjectAcronym_s\"].notna()\n",
    "df[\"anrProjectAcronym_s\"] = df[\"anrProjectAcronym_s\"].notna()"
   ]
  },
  {
   "cell_type": "code",
   "execution_count": 11,
   "id": "a7ca43af",
   "metadata": {},
   "outputs": [],
   "source": [
    "def deduce_funders(row) : \n",
    "    \"\"\"\n",
    "    create a column to indicate the funder, either ANR or Europe or both\n",
    "    \"\"\"\n",
    "    if row[\"europeanProjectAcronym_s\"] & row[\"anrProjectAcronym_s\"] : \n",
    "        return \"Europe & ANR\"\n",
    "    \n",
    "    elif row[\"europeanProjectAcronym_s\"] : \n",
    "        return \"Europe\"\n",
    "    \n",
    "    elif row[\"anrProjectAcronym_s\"] : \n",
    "        return \"ANR\""
   ]
  },
  {
   "cell_type": "code",
   "execution_count": 12,
   "id": "4f15eb22",
   "metadata": {},
   "outputs": [],
   "source": [
    "df[\"funded_project\"] = df.apply(lambda row : deduce_funders(row), axis = 1)"
   ]
  },
  {
   "cell_type": "code",
   "execution_count": 13,
   "id": "22ba418d",
   "metadata": {},
   "outputs": [],
   "source": [
    "## make simpler document types\n",
    "doctype_matcher = {\n",
    "     \"ART\" : \"article\", \n",
    "     \"UNDEFINED\" : \"preprint\",\n",
    "     \"PROCEEDINGS\" : \"proceedings\",\n",
    "     \"OUV\" : \"book\",\n",
    "     \"COUV\" : \"book\", \n",
    "     \"ISSUE\" : \"issue\"\n",
    "    }"
   ]
  },
  {
   "cell_type": "code",
   "execution_count": 14,
   "id": "c9120845",
   "metadata": {},
   "outputs": [],
   "source": [
    "def change_doctype(hal_doctype) :\n",
    "    \"\"\"\n",
    "    change document types for less information\n",
    "    \"\"\"\n",
    "    if hal_doctype in doctype_matcher.keys() : \n",
    "        return doctype_matcher[hal_doctype]\n",
    "    else : \n",
    "        return \"other\""
   ]
  },
  {
   "cell_type": "code",
   "execution_count": 15,
   "id": "f344afd8",
   "metadata": {},
   "outputs": [],
   "source": [
    "df[\"docType_s\"] = df[\"docType_s\"].apply(lambda x : change_doctype(x))"
   ]
  },
  {
   "cell_type": "code",
   "execution_count": 16,
   "id": "4d5251cc",
   "metadata": {},
   "outputs": [
    {
     "data": {
      "text/plain": [
       "article        70\n",
       "preprint       11\n",
       "other           5\n",
       "proceedings     1\n",
       "Name: docType_s, dtype: int64"
      ]
     },
     "execution_count": 16,
     "metadata": {},
     "output_type": "execute_result"
    }
   ],
   "source": [
    "df.docType_s.value_counts()"
   ]
  },
  {
   "cell_type": "code",
   "execution_count": 17,
   "id": "d145701f",
   "metadata": {},
   "outputs": [
    {
     "data": {
      "text/plain": [
       "Index(['primaryDomain_s', 'anrProjectAcronym_s', 'halId_s', 'docType_s',\n",
       "       'submittedDate_s', 'journalPublisher_s', 'journalIssn_s', 'doiId_s',\n",
       "       'europeanProjectAcronym_s', 'publisher_s', 'upw_issns', 'upw_vor_is_oa',\n",
       "       'funded_project'],\n",
       "      dtype='object')"
      ]
     },
     "execution_count": 17,
     "metadata": {},
     "output_type": "execute_result"
    }
   ],
   "source": [
    "df.columns"
   ]
  },
  {
   "cell_type": "code",
   "execution_count": 18,
   "id": "215c3a66",
   "metadata": {},
   "outputs": [],
   "source": [
    "## remove columns\n",
    "# /!\\/!\\/!\\ first verify column existance /!\\/!\\/!\\\n",
    "df_export = df.drop(\n",
    "    [\"primaryDomain_s\", \"journalIssn_s\", \"doiId_s\", \"upw_issns\", \"anrProjectAcronym_s\", \"europeanProjectAcronym_s\" ], \n",
    "    axis = 1)"
   ]
  },
  {
   "cell_type": "code",
   "execution_count": 19,
   "id": "fb449883",
   "metadata": {},
   "outputs": [
    {
     "data": {
      "text/plain": [
       "Index(['halId_s', 'docType_s', 'submittedDate_s', 'journalPublisher_s',\n",
       "       'publisher_s', 'upw_vor_is_oa', 'funded_project'],\n",
       "      dtype='object')"
      ]
     },
     "execution_count": 19,
     "metadata": {},
     "output_type": "execute_result"
    }
   ],
   "source": [
    "df_export.columns"
   ]
  },
  {
   "cell_type": "code",
   "execution_count": 20,
   "id": "0a25b701",
   "metadata": {},
   "outputs": [],
   "source": [
    "## reorder column\n",
    "df_export = df[[\"halId_s\", \"docType_s\", \"journalPublisher_s\", \"upw_vor_is_oa\", \"funded_project\", \"submittedDate_s\"]]"
   ]
  },
  {
   "cell_type": "code",
   "execution_count": 21,
   "id": "185de0a1",
   "metadata": {},
   "outputs": [],
   "source": [
    "## rename columns\n",
    "df_export = df_export.rename(columns = \n",
    "                 {'halId_s':'HAL URI', \n",
    "                  'docType_s':'genre', \n",
    "                  \"journalPublisher_s\" : \"publisher\",\n",
    "                  \"upw_vor_is_oa\" : \"publisher vers.\\nis OA\",\n",
    "                  \"funded_project\" : \"European/ANR project\",\n",
    "                  \"submittedDate_s\" : \"deposit date\"\n",
    "                 })"
   ]
  },
  {
   "cell_type": "code",
   "execution_count": 22,
   "id": "1c81b588",
   "metadata": {},
   "outputs": [],
   "source": [
    "df_export.to_csv(\"../fr-publications-rrs-applied.csv\", index = False)"
   ]
  },
  {
   "cell_type": "code",
   "execution_count": null,
   "id": "347d02cc",
   "metadata": {},
   "outputs": [],
   "source": []
  }
 ],
 "metadata": {
  "kernelspec": {
   "display_name": "Python 3 (ipykernel)",
   "language": "python",
   "name": "python3"
  },
  "language_info": {
   "codemirror_mode": {
    "name": "ipython",
    "version": 3
   },
   "file_extension": ".py",
   "mimetype": "text/x-python",
   "name": "python",
   "nbconvert_exporter": "python",
   "pygments_lexer": "ipython3",
   "version": "3.9.7"
  }
 },
 "nbformat": 4,
 "nbformat_minor": 5
}
