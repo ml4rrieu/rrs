{
 "cells": [
  {
   "cell_type": "code",
   "execution_count": 1,
   "id": "b7170dc4",
   "metadata": {},
   "outputs": [
    {
     "name": "stdout",
     "output_type": "stream",
     "text": [
      "Didn't recognize theme name: l\n",
      "Available Themes: \n",
      "   chesterish\n",
      "   grade3\n",
      "   gruvboxd\n",
      "   gruvboxl\n",
      "   monokai\n",
      "   oceans16\n",
      "   onedork\n",
      "   solarizedd\n",
      "   solarizedl\n"
     ]
    }
   ],
   "source": [
    "!jt -t l"
   ]
  },
  {
   "cell_type": "code",
   "execution_count": 31,
   "id": "e19df0ab",
   "metadata": {},
   "outputs": [],
   "source": [
    "import requests, json, pandas as pd, numpy as np"
   ]
  },
  {
   "cell_type": "code",
   "execution_count": 3,
   "id": "f709f7c0",
   "metadata": {},
   "outputs": [],
   "source": [
    "## ajouter publisher_s, journalPublisher_s, anrProjectAcronym_s\n",
    "\n",
    "hal_req = \"\"\"\n",
    "https://api.archives-ouvertes.fr/search/?q=fulltext_t:\\\n",
    "((\"applied a CC\" AND \"BY public copyright\") OR (\"appliqué une licence\" AND CC AND BY))\\\n",
    "&rows=5000&sort=submittedDate_tdate desc&\\\n",
    "fl=halId_s,doiId_s,docType_s,primaryDomain_s,journalIssn_s,submittedDate_s,anrProjectAcronym_s,journalPublisher_s,publisher_s\n",
    "\"\"\""
   ]
  },
  {
   "cell_type": "code",
   "execution_count": 4,
   "id": "68aab598",
   "metadata": {},
   "outputs": [
    {
     "name": "stdout",
     "output_type": "stream",
     "text": [
      "total of publications 55\n"
     ]
    }
   ],
   "source": [
    "req_raw = requests.get(hal_req)\n",
    "req_json = req_raw.json()\n",
    "print(\"total of publications\", req_json[\"response\"][\"numFound\"])"
   ]
  },
  {
   "cell_type": "code",
   "execution_count": 5,
   "id": "131356ca",
   "metadata": {},
   "outputs": [
    {
     "data": {
      "text/html": [
       "<div>\n",
       "<style scoped>\n",
       "    .dataframe tbody tr th:only-of-type {\n",
       "        vertical-align: middle;\n",
       "    }\n",
       "\n",
       "    .dataframe tbody tr th {\n",
       "        vertical-align: top;\n",
       "    }\n",
       "\n",
       "    .dataframe thead th {\n",
       "        text-align: right;\n",
       "    }\n",
       "</style>\n",
       "<table border=\"1\" class=\"dataframe\">\n",
       "  <thead>\n",
       "    <tr style=\"text-align: right;\">\n",
       "      <th></th>\n",
       "      <th>primaryDomain_s</th>\n",
       "      <th>journalPublisher_s</th>\n",
       "      <th>journalIssn_s</th>\n",
       "      <th>halId_s</th>\n",
       "      <th>docType_s</th>\n",
       "      <th>doiId_s</th>\n",
       "      <th>submittedDate_s</th>\n",
       "      <th>anrProjectAcronym_s</th>\n",
       "    </tr>\n",
       "  </thead>\n",
       "  <tbody>\n",
       "    <tr>\n",
       "      <th>36</th>\n",
       "      <td>sdv.bc.bc</td>\n",
       "      <td>NaN</td>\n",
       "      <td>NaN</td>\n",
       "      <td>hal-03454274</td>\n",
       "      <td>UNDEFINED</td>\n",
       "      <td>10.1101/2021.09.24.461707</td>\n",
       "      <td>2021-11-29 10:14:16</td>\n",
       "      <td>NaN</td>\n",
       "    </tr>\n",
       "  </tbody>\n",
       "</table>\n",
       "</div>"
      ],
      "text/plain": [
       "   primaryDomain_s journalPublisher_s journalIssn_s       halId_s  docType_s  \\\n",
       "36       sdv.bc.bc                NaN           NaN  hal-03454274  UNDEFINED   \n",
       "\n",
       "                      doiId_s      submittedDate_s anrProjectAcronym_s  \n",
       "36  10.1101/2021.09.24.461707  2021-11-29 10:14:16                 NaN  "
      ]
     },
     "execution_count": 5,
     "metadata": {},
     "output_type": "execute_result"
    }
   ],
   "source": [
    "req_data = req_json[\"response\"][\"docs\"]\n",
    "df = pd.DataFrame(req_data)\n",
    "df.sample(1)"
   ]
  },
  {
   "cell_type": "code",
   "execution_count": 6,
   "id": "257fcc6d",
   "metadata": {},
   "outputs": [],
   "source": [
    "# re order column\n",
    "#df = df[[\"halId_s\", \"doiId_s\", \"docType_s\", \"journalIssn_s\", \"submittedDate_s\"]]"
   ]
  },
  {
   "cell_type": "code",
   "execution_count": 39,
   "id": "30471732",
   "metadata": {},
   "outputs": [
    {
     "data": {
      "text/html": [
       "<div>\n",
       "<style scoped>\n",
       "    .dataframe tbody tr th:only-of-type {\n",
       "        vertical-align: middle;\n",
       "    }\n",
       "\n",
       "    .dataframe tbody tr th {\n",
       "        vertical-align: top;\n",
       "    }\n",
       "\n",
       "    .dataframe thead th {\n",
       "        text-align: right;\n",
       "    }\n",
       "</style>\n",
       "<table border=\"1\" class=\"dataframe\">\n",
       "  <thead>\n",
       "    <tr style=\"text-align: right;\">\n",
       "      <th></th>\n",
       "      <th>primaryDomain_s</th>\n",
       "      <th>journalPublisher_s</th>\n",
       "      <th>journalIssn_s</th>\n",
       "      <th>halId_s</th>\n",
       "      <th>docType_s</th>\n",
       "      <th>doiId_s</th>\n",
       "      <th>submittedDate_s</th>\n",
       "      <th>anrProjectAcronym_s</th>\n",
       "      <th>upw_issns</th>\n",
       "      <th>upw_vor_is_oa</th>\n",
       "    </tr>\n",
       "  </thead>\n",
       "  <tbody>\n",
       "    <tr>\n",
       "      <th>2</th>\n",
       "      <td>sdv.mhep.mi</td>\n",
       "      <td>MDPI</td>\n",
       "      <td>2076-0817</td>\n",
       "      <td>hal-03788705</td>\n",
       "      <td>ART</td>\n",
       "      <td>10.3390/pathogens11091045</td>\n",
       "      <td>2022-09-26</td>\n",
       "      <td>NaN</td>\n",
       "      <td>2076-0817</td>\n",
       "      <td>True</td>\n",
       "    </tr>\n",
       "  </tbody>\n",
       "</table>\n",
       "</div>"
      ],
      "text/plain": [
       "  primaryDomain_s journalPublisher_s journalIssn_s       halId_s docType_s  \\\n",
       "2     sdv.mhep.mi               MDPI     2076-0817  hal-03788705       ART   \n",
       "\n",
       "                     doiId_s submittedDate_s anrProjectAcronym_s  upw_issns  \\\n",
       "2  10.3390/pathogens11091045      2022-09-26                 NaN  2076-0817   \n",
       "\n",
       "   upw_vor_is_oa  \n",
       "2           True  "
      ]
     },
     "execution_count": 39,
     "metadata": {},
     "output_type": "execute_result"
    }
   ],
   "source": [
    "## lighten submittedDAte\n",
    "df[\"submittedDate_s\"] = df[\"submittedDate_s\"].str.slice(0,10)\n",
    "df.sample(1)"
   ]
  },
  {
   "cell_type": "code",
   "execution_count": 42,
   "id": "c7c964e0",
   "metadata": {},
   "outputs": [],
   "source": [
    "## lighten anrProject\n",
    "df[\"anrProjectAcronym_s\"] = df[\"anrProjectAcronym_s\"].notna()"
   ]
  },
  {
   "cell_type": "code",
   "execution_count": 8,
   "id": "2c29b818",
   "metadata": {},
   "outputs": [
    {
     "data": {
      "text/plain": [
       "ART          48\n",
       "UNDEFINED     6\n",
       "COMM          1\n",
       "Name: docType_s, dtype: int64"
      ]
     },
     "execution_count": 8,
     "metadata": {},
     "output_type": "execute_result"
    }
   ],
   "source": [
    "df[\"docType_s\"].value_counts()"
   ]
  },
  {
   "cell_type": "markdown",
   "id": "d8dfa322",
   "metadata": {},
   "source": [
    "## Enrich w unpaywall"
   ]
  },
  {
   "cell_type": "code",
   "execution_count": 9,
   "id": "c0f63974",
   "metadata": {},
   "outputs": [],
   "source": [
    "def get_upw(doi):\n",
    "    # memo https://api.unpaywall.org/v2/10.1101/2021.05.24.445406?email=m@larri.eu\n",
    "    req = requests.get(f\"https://api.unpaywall.org/v2/{doi}?email=m@larri.eu\")\n",
    "    res = req.json()\n",
    "    \n",
    "    # get issns\n",
    "    issns = res.get(\"journal_issns\")\n",
    "    \n",
    "    # deduce if vor is oa\n",
    "    vor_is_oa = False\n",
    "    if res.get(\"best_oa_location\"):\n",
    "        best_loc = res[\"best_oa_location\"]\n",
    "        vor_is_oa = True if best_loc[\"version\"] == \"publishedVersion\" else False\n",
    "    \n",
    "    return [issns, vor_is_oa]"
   ]
  },
  {
   "cell_type": "code",
   "execution_count": 10,
   "id": "71f6ee1b",
   "metadata": {},
   "outputs": [
    {
     "data": {
      "text/plain": [
       "[None, True]"
      ]
     },
     "execution_count": 10,
     "metadata": {},
     "output_type": "execute_result"
    }
   ],
   "source": [
    "## pour tester\n",
    "# memo closed doi 10.1017/S135577181900030X\n",
    "get_upw(\"10.1101/2021.05.24.445406\")"
   ]
  },
  {
   "cell_type": "code",
   "execution_count": 11,
   "id": "41aa5ecd",
   "metadata": {},
   "outputs": [],
   "source": [
    "## add upw_issn & upw_vor_is_oa\n",
    "df[[\"upw_issns\", \"upw_vor_is_oa\" ]] = df.apply(\n",
    "    lambda row : get_upw(row[\"doiId_s\"]), axis = 1, result_type = \"expand\")"
   ]
  },
  {
   "cell_type": "code",
   "execution_count": 22,
   "id": "55bfae10",
   "metadata": {},
   "outputs": [
    {
     "data": {
      "text/html": [
       "<div>\n",
       "<style scoped>\n",
       "    .dataframe tbody tr th:only-of-type {\n",
       "        vertical-align: middle;\n",
       "    }\n",
       "\n",
       "    .dataframe tbody tr th {\n",
       "        vertical-align: top;\n",
       "    }\n",
       "\n",
       "    .dataframe thead th {\n",
       "        text-align: right;\n",
       "    }\n",
       "</style>\n",
       "<table border=\"1\" class=\"dataframe\">\n",
       "  <thead>\n",
       "    <tr style=\"text-align: right;\">\n",
       "      <th></th>\n",
       "      <th>primaryDomain_s</th>\n",
       "      <th>journalPublisher_s</th>\n",
       "      <th>journalIssn_s</th>\n",
       "      <th>halId_s</th>\n",
       "      <th>docType_s</th>\n",
       "      <th>doiId_s</th>\n",
       "      <th>submittedDate_s</th>\n",
       "      <th>anrProjectAcronym_s</th>\n",
       "      <th>upw_issns</th>\n",
       "      <th>upw_vor_is_oa</th>\n",
       "    </tr>\n",
       "  </thead>\n",
       "  <tbody>\n",
       "    <tr>\n",
       "      <th>8</th>\n",
       "      <td>sdv.bbm.bc</td>\n",
       "      <td>Elsevier</td>\n",
       "      <td>0955-0674</td>\n",
       "      <td>pasteur-03716706</td>\n",
       "      <td>ART</td>\n",
       "      <td>10.1016/j.ceb.2022.102081</td>\n",
       "      <td>2022-07-07</td>\n",
       "      <td>[HBPsensing, PureMagRupture, MILIEU INTERIEUR,...</td>\n",
       "      <td>0955-0674</td>\n",
       "      <td>True</td>\n",
       "    </tr>\n",
       "    <tr>\n",
       "      <th>10</th>\n",
       "      <td>sdv</td>\n",
       "      <td>NaN</td>\n",
       "      <td>NaN</td>\n",
       "      <td>pasteur-03712988</td>\n",
       "      <td>UNDEFINED</td>\n",
       "      <td>10.1101/2021.08.30.458241</td>\n",
       "      <td>2022-07-04</td>\n",
       "      <td>[IIMory]</td>\n",
       "      <td>None</td>\n",
       "      <td>False</td>\n",
       "    </tr>\n",
       "    <tr>\n",
       "      <th>15</th>\n",
       "      <td>sdv</td>\n",
       "      <td>American Society for Microbiology</td>\n",
       "      <td>2161-2129</td>\n",
       "      <td>pasteur-03675874</td>\n",
       "      <td>ART</td>\n",
       "      <td>10.1128/mbio.03510-21</td>\n",
       "      <td>2022-05-23</td>\n",
       "      <td>[IBEID]</td>\n",
       "      <td>2150-7511</td>\n",
       "      <td>True</td>\n",
       "    </tr>\n",
       "    <tr>\n",
       "      <th>18</th>\n",
       "      <td>sdv</td>\n",
       "      <td>Public Library of Science</td>\n",
       "      <td>1935-2727</td>\n",
       "      <td>hal-03648068</td>\n",
       "      <td>ART</td>\n",
       "      <td>10.1371/journal.pntd.0010256</td>\n",
       "      <td>2022-04-21</td>\n",
       "      <td>[FutureHealthSEA]</td>\n",
       "      <td>1935-2735</td>\n",
       "      <td>True</td>\n",
       "    </tr>\n",
       "    <tr>\n",
       "      <th>20</th>\n",
       "      <td>sdv.bbm.bc</td>\n",
       "      <td>Wiley-VCH Verlag</td>\n",
       "      <td>0265-9247</td>\n",
       "      <td>pasteur-03606359</td>\n",
       "      <td>ART</td>\n",
       "      <td>10.1002/bies.202100296</td>\n",
       "      <td>2022-03-11</td>\n",
       "      <td>[DEFineNMD]</td>\n",
       "      <td>0265-9247,1521-1878</td>\n",
       "      <td>True</td>\n",
       "    </tr>\n",
       "    <tr>\n",
       "      <th>23</th>\n",
       "      <td>phys</td>\n",
       "      <td>American Institute of Physics</td>\n",
       "      <td>0021-8979</td>\n",
       "      <td>hal-03532947</td>\n",
       "      <td>ART</td>\n",
       "      <td>10.1063/5.0063136</td>\n",
       "      <td>2022-02-21</td>\n",
       "      <td>[C-PI-GaN]</td>\n",
       "      <td>0021-8979,1089-7550</td>\n",
       "      <td>False</td>\n",
       "    </tr>\n",
       "    <tr>\n",
       "      <th>25</th>\n",
       "      <td>sdv.imm</td>\n",
       "      <td>Wiley-VCH Verlag</td>\n",
       "      <td>0014-2980</td>\n",
       "      <td>pasteur-03566563</td>\n",
       "      <td>ART</td>\n",
       "      <td>10.1002/eji.202149766</td>\n",
       "      <td>2022-02-11</td>\n",
       "      <td>[PlanA, MILIEU INTERIEUR]</td>\n",
       "      <td>0014-2980,1521-4141</td>\n",
       "      <td>True</td>\n",
       "    </tr>\n",
       "    <tr>\n",
       "      <th>29</th>\n",
       "      <td>sdv.mp.pro</td>\n",
       "      <td>Nature Publishing Group</td>\n",
       "      <td>2058-5276</td>\n",
       "      <td>hal-03521407</td>\n",
       "      <td>ART</td>\n",
       "      <td>10.1038/s41564-021-01020-9</td>\n",
       "      <td>2022-01-13</td>\n",
       "      <td>[METHEVOL, Arch-Evol]</td>\n",
       "      <td>2058-5276</td>\n",
       "      <td>True</td>\n",
       "    </tr>\n",
       "    <tr>\n",
       "      <th>35</th>\n",
       "      <td>sdv</td>\n",
       "      <td>NaN</td>\n",
       "      <td>NaN</td>\n",
       "      <td>hal-03472238</td>\n",
       "      <td>ART</td>\n",
       "      <td>10.1186/s13071-021-05042-4</td>\n",
       "      <td>2021-12-09</td>\n",
       "      <td>[FutureHealthSEA]</td>\n",
       "      <td>1756-3305</td>\n",
       "      <td>True</td>\n",
       "    </tr>\n",
       "    <tr>\n",
       "      <th>46</th>\n",
       "      <td>sdv</td>\n",
       "      <td>American Society for Microbiology</td>\n",
       "      <td>0095-1137</td>\n",
       "      <td>pasteur-03346634</td>\n",
       "      <td>ART</td>\n",
       "      <td>10.1128/jcm.01581-21</td>\n",
       "      <td>2021-09-16</td>\n",
       "      <td>[IBEID]</td>\n",
       "      <td>0095-1137,1098-660X</td>\n",
       "      <td>True</td>\n",
       "    </tr>\n",
       "    <tr>\n",
       "      <th>49</th>\n",
       "      <td>sdv</td>\n",
       "      <td>Public Library of Science</td>\n",
       "      <td>1553-734X</td>\n",
       "      <td>hal-03344682</td>\n",
       "      <td>ART</td>\n",
       "      <td>10.1371/journal.pcbi.1009105</td>\n",
       "      <td>2021-09-15</td>\n",
       "      <td>[MetClassNet, METABOHUB]</td>\n",
       "      <td>1553-7358</td>\n",
       "      <td>True</td>\n",
       "    </tr>\n",
       "  </tbody>\n",
       "</table>\n",
       "</div>"
      ],
      "text/plain": [
       "   primaryDomain_s                 journalPublisher_s journalIssn_s  \\\n",
       "8       sdv.bbm.bc                           Elsevier     0955-0674   \n",
       "10             sdv                                NaN           NaN   \n",
       "15             sdv  American Society for Microbiology     2161-2129   \n",
       "18             sdv          Public Library of Science     1935-2727   \n",
       "20      sdv.bbm.bc                   Wiley-VCH Verlag     0265-9247   \n",
       "23            phys      American Institute of Physics     0021-8979   \n",
       "25         sdv.imm                   Wiley-VCH Verlag     0014-2980   \n",
       "29      sdv.mp.pro            Nature Publishing Group     2058-5276   \n",
       "35             sdv                                NaN           NaN   \n",
       "46             sdv  American Society for Microbiology     0095-1137   \n",
       "49             sdv          Public Library of Science     1553-734X   \n",
       "\n",
       "             halId_s  docType_s                       doiId_s submittedDate_s  \\\n",
       "8   pasteur-03716706        ART     10.1016/j.ceb.2022.102081      2022-07-07   \n",
       "10  pasteur-03712988  UNDEFINED     10.1101/2021.08.30.458241      2022-07-04   \n",
       "15  pasteur-03675874        ART         10.1128/mbio.03510-21      2022-05-23   \n",
       "18      hal-03648068        ART  10.1371/journal.pntd.0010256      2022-04-21   \n",
       "20  pasteur-03606359        ART        10.1002/bies.202100296      2022-03-11   \n",
       "23      hal-03532947        ART             10.1063/5.0063136      2022-02-21   \n",
       "25  pasteur-03566563        ART         10.1002/eji.202149766      2022-02-11   \n",
       "29      hal-03521407        ART    10.1038/s41564-021-01020-9      2022-01-13   \n",
       "35      hal-03472238        ART    10.1186/s13071-021-05042-4      2021-12-09   \n",
       "46  pasteur-03346634        ART          10.1128/jcm.01581-21      2021-09-16   \n",
       "49      hal-03344682        ART  10.1371/journal.pcbi.1009105      2021-09-15   \n",
       "\n",
       "                                  anrProjectAcronym_s            upw_issns  \\\n",
       "8   [HBPsensing, PureMagRupture, MILIEU INTERIEUR,...            0955-0674   \n",
       "10                                           [IIMory]                 None   \n",
       "15                                            [IBEID]            2150-7511   \n",
       "18                                  [FutureHealthSEA]            1935-2735   \n",
       "20                                        [DEFineNMD]  0265-9247,1521-1878   \n",
       "23                                         [C-PI-GaN]  0021-8979,1089-7550   \n",
       "25                          [PlanA, MILIEU INTERIEUR]  0014-2980,1521-4141   \n",
       "29                              [METHEVOL, Arch-Evol]            2058-5276   \n",
       "35                                  [FutureHealthSEA]            1756-3305   \n",
       "46                                            [IBEID]  0095-1137,1098-660X   \n",
       "49                           [MetClassNet, METABOHUB]            1553-7358   \n",
       "\n",
       "    upw_vor_is_oa  \n",
       "8            True  \n",
       "10          False  \n",
       "15           True  \n",
       "18           True  \n",
       "20           True  \n",
       "23          False  \n",
       "25           True  \n",
       "29           True  \n",
       "35           True  \n",
       "46           True  \n",
       "49           True  "
      ]
     },
     "execution_count": 22,
     "metadata": {},
     "output_type": "execute_result"
    }
   ],
   "source": [
    "df[df[\"anrProjectAcronym_s\"].notnull()]"
   ]
  },
  {
   "cell_type": "markdown",
   "id": "9feed879",
   "metadata": {},
   "source": [
    "# z-last step male table visible"
   ]
  },
  {
   "cell_type": "code",
   "execution_count": 23,
   "id": "d145701f",
   "metadata": {},
   "outputs": [
    {
     "data": {
      "text/plain": [
       "Index(['primaryDomain_s', 'journalPublisher_s', 'journalIssn_s', 'halId_s',\n",
       "       'docType_s', 'doiId_s', 'submittedDate_s', 'anrProjectAcronym_s',\n",
       "       'upw_issns', 'upw_vor_is_oa'],\n",
       "      dtype='object')"
      ]
     },
     "execution_count": 23,
     "metadata": {},
     "output_type": "execute_result"
    }
   ],
   "source": [
    "df.columns"
   ]
  },
  {
   "cell_type": "code",
   "execution_count": 46,
   "id": "709e8e96",
   "metadata": {},
   "outputs": [
    {
     "name": "stderr",
     "output_type": "stream",
     "text": [
      "c:\\users\\agentup\\appdata\\local\\programs\\python\\python39\\lib\\site-packages\\pandas\\core\\series.py:4509: SettingWithCopyWarning: \n",
      "A value is trying to be set on a copy of a slice from a DataFrame\n",
      "\n",
      "See the caveats in the documentation: https://pandas.pydata.org/pandas-docs/stable/user_guide/indexing.html#returning-a-view-versus-a-copy\n",
      "  return super().replace(\n"
     ]
    }
   ],
   "source": [
    "export_df = df[[\"halId_s\", \"primaryDomain_s\", \"journalPublisher_s\", \"upw_vor_is_oa\", \"anrProjectAcronym_s\", \"submittedDate_s\" ]]\n",
    "export_df.rename(columns = \n",
    "                 {'halId_s':'halId', \n",
    "                  'primaryDomain_s':'primaryDomain', \n",
    "                  \"journalPublisher_s\" : \"journalPublisher\",\n",
    "                  \"upw_vor_is_oa\" : \"vorIsOa\",\n",
    "                  \"anrProjectAcronym_s\" : \"anrProject\",\n",
    "                  \"submittedDate_s\" : \"submittedDate\"\n",
    "                 }, \n",
    "                 inplace = True)\n",
    "\n",
    "export_df[\"anrProject\"].replace(to_replace= False, value=\"\", inplace = True)\n",
    "export_df.to_csv(\"../fr-publications-rrs-applied.csv\", index = False)"
   ]
  },
  {
   "cell_type": "code",
   "execution_count": null,
   "id": "1c81b588",
   "metadata": {},
   "outputs": [],
   "source": []
  }
 ],
 "metadata": {
  "kernelspec": {
   "display_name": "Python 3",
   "language": "python",
   "name": "python3"
  },
  "language_info": {
   "codemirror_mode": {
    "name": "ipython",
    "version": 3
   },
   "file_extension": ".py",
   "mimetype": "text/x-python",
   "name": "python",
   "nbconvert_exporter": "python",
   "pygments_lexer": "ipython3",
   "version": "3.9.7"
  }
 },
 "nbformat": 4,
 "nbformat_minor": 5
}
