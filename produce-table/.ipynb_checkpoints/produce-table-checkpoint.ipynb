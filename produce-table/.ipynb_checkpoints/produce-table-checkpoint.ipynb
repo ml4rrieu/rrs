{
 "cells": [
  {
   "cell_type": "code",
   "execution_count": 11,
   "id": "b7170dc4",
   "metadata": {},
   "outputs": [
    {
     "name": "stdout",
     "output_type": "stream",
     "text": [
      "Didn't recognize theme name: l\n",
      "Available Themes: \n",
      "   chesterish\n",
      "   grade3\n",
      "   gruvboxd\n",
      "   gruvboxl\n",
      "   monokai\n",
      "   oceans16\n",
      "   onedork\n",
      "   solarizedd\n",
      "   solarizedl\n"
     ]
    }
   ],
   "source": [
    "!jt -t l"
   ]
  },
  {
   "cell_type": "code",
   "execution_count": 1,
   "id": "e19df0ab",
   "metadata": {},
   "outputs": [],
   "source": [
    "import requests, json, pandas as pd, numpy as np"
   ]
  },
  {
   "cell_type": "markdown",
   "id": "2b0241d4",
   "metadata": {},
   "source": [
    "## Get data from HAL"
   ]
  },
  {
   "cell_type": "code",
   "execution_count": 32,
   "id": "f709f7c0",
   "metadata": {},
   "outputs": [],
   "source": [
    "hal_req = \"\"\"\n",
    "https://api.archives-ouvertes.fr/search/?q=fulltext_t:\\\n",
    "((\"applied a CC BY public copyright\") OR (\"applied a CC-BY public copyright\")\\\n",
    "OR (\"appliqué une licence CC BY\") OR (\"appliqué une licence CC-BY\") )\\\n",
    "&rows=5000&sort=submittedDate_tdate desc&\\\n",
    "fl=halId_s,doiId_s,docType_s,primaryDomain_s,journalIssn_s,submittedDate_s,anrProjectAcronym_s,journalPublisher_s,publisher_s\n",
    "\"\"\""
   ]
  },
  {
   "cell_type": "code",
   "execution_count": 61,
   "id": "68aab598",
   "metadata": {},
   "outputs": [
    {
     "name": "stdout",
     "output_type": "stream",
     "text": [
      "total of publications 54\n"
     ]
    }
   ],
   "source": [
    "req_raw = requests.get(hal_req)\n",
    "req_json = req_raw.json()\n",
    "print(\"total of publications\", req_json[\"response\"][\"numFound\"])"
   ]
  },
  {
   "cell_type": "code",
   "execution_count": 62,
   "id": "131356ca",
   "metadata": {},
   "outputs": [
    {
     "data": {
      "text/html": [
       "<div>\n",
       "<style scoped>\n",
       "    .dataframe tbody tr th:only-of-type {\n",
       "        vertical-align: middle;\n",
       "    }\n",
       "\n",
       "    .dataframe tbody tr th {\n",
       "        vertical-align: top;\n",
       "    }\n",
       "\n",
       "    .dataframe thead th {\n",
       "        text-align: right;\n",
       "    }\n",
       "</style>\n",
       "<table border=\"1\" class=\"dataframe\">\n",
       "  <thead>\n",
       "    <tr style=\"text-align: right;\">\n",
       "      <th></th>\n",
       "      <th>primaryDomain_s</th>\n",
       "      <th>journalPublisher_s</th>\n",
       "      <th>journalIssn_s</th>\n",
       "      <th>halId_s</th>\n",
       "      <th>docType_s</th>\n",
       "      <th>doiId_s</th>\n",
       "      <th>submittedDate_s</th>\n",
       "      <th>anrProjectAcronym_s</th>\n",
       "    </tr>\n",
       "  </thead>\n",
       "  <tbody>\n",
       "    <tr>\n",
       "      <th>18</th>\n",
       "      <td>sdv</td>\n",
       "      <td>Public Library of Science</td>\n",
       "      <td>1935-2727</td>\n",
       "      <td>hal-03648068</td>\n",
       "      <td>ART</td>\n",
       "      <td>10.1371/journal.pntd.0010256</td>\n",
       "      <td>2022-04-21 10:58:03</td>\n",
       "      <td>[FutureHealthSEA]</td>\n",
       "    </tr>\n",
       "  </tbody>\n",
       "</table>\n",
       "</div>"
      ],
      "text/plain": [
       "   primaryDomain_s         journalPublisher_s journalIssn_s       halId_s  \\\n",
       "18             sdv  Public Library of Science     1935-2727  hal-03648068   \n",
       "\n",
       "   docType_s                       doiId_s      submittedDate_s  \\\n",
       "18       ART  10.1371/journal.pntd.0010256  2022-04-21 10:58:03   \n",
       "\n",
       "   anrProjectAcronym_s  \n",
       "18   [FutureHealthSEA]  "
      ]
     },
     "execution_count": 62,
     "metadata": {},
     "output_type": "execute_result"
    }
   ],
   "source": [
    "## transform json to dataframe\n",
    "req_data = req_json[\"response\"][\"docs\"]\n",
    "df = pd.DataFrame(req_data)\n",
    "df.sample(1)"
   ]
  },
  {
   "cell_type": "code",
   "execution_count": 63,
   "id": "2c29b818",
   "metadata": {},
   "outputs": [
    {
     "data": {
      "text/plain": [
       "ART          48\n",
       "UNDEFINED     5\n",
       "COMM          1\n",
       "Name: docType_s, dtype: int64"
      ]
     },
     "execution_count": 63,
     "metadata": {},
     "output_type": "execute_result"
    }
   ],
   "source": [
    "df[\"docType_s\"].value_counts()"
   ]
  },
  {
   "cell_type": "markdown",
   "id": "d8dfa322",
   "metadata": {},
   "source": [
    "## Enrich w unpaywall"
   ]
  },
  {
   "cell_type": "code",
   "execution_count": 64,
   "id": "c0f63974",
   "metadata": {},
   "outputs": [],
   "source": [
    "def get_upw(doi):\n",
    "    # memo https://api.unpaywall.org/v2/10.1101/2021.05.24.445406?email=maxence.larrieu@u-paris.fr\n",
    "    req = requests.get(f\"https://api.unpaywall.org/v2/{doi}?email=m@larri.eu\")\n",
    "    res = req.json()\n",
    "    \n",
    "    # get issns\n",
    "    issns = res.get(\"journal_issns\")\n",
    "    \n",
    "    # deduce if vor is oa\n",
    "    vor_is_oa = False\n",
    "    if res.get(\"best_oa_location\"):\n",
    "        best_loc = res[\"best_oa_location\"]\n",
    "        vor_is_oa = True if best_loc[\"version\"] == \"publishedVersion\" else False\n",
    "    \n",
    "    return [issns, vor_is_oa]"
   ]
  },
  {
   "cell_type": "code",
   "execution_count": 65,
   "id": "71f6ee1b",
   "metadata": {},
   "outputs": [
    {
     "data": {
      "text/plain": [
       "['1355-7718,1469-8153', False]"
      ]
     },
     "execution_count": 65,
     "metadata": {},
     "output_type": "execute_result"
    }
   ],
   "source": [
    "## pour tester\n",
    "# memo closed doi 10.1017/S135577181900030X\n",
    "get_upw(\"10.1017/S135577181900030X\")"
   ]
  },
  {
   "cell_type": "code",
   "execution_count": 66,
   "id": "41aa5ecd",
   "metadata": {},
   "outputs": [],
   "source": [
    "## add upw_issn & upw_vor_is_oa to table\n",
    "df[[\"upw_issns\", \"upw_vor_is_oa\" ]] = df.apply(\n",
    "    lambda row : get_upw(row[\"doiId_s\"]), axis = 1, result_type = \"expand\")"
   ]
  },
  {
   "cell_type": "markdown",
   "id": "9feed879",
   "metadata": {},
   "source": [
    "# Rework the table for html display"
   ]
  },
  {
   "cell_type": "code",
   "execution_count": 67,
   "id": "35d8a5d3",
   "metadata": {},
   "outputs": [
    {
     "data": {
      "text/html": [
       "<div>\n",
       "<style scoped>\n",
       "    .dataframe tbody tr th:only-of-type {\n",
       "        vertical-align: middle;\n",
       "    }\n",
       "\n",
       "    .dataframe tbody tr th {\n",
       "        vertical-align: top;\n",
       "    }\n",
       "\n",
       "    .dataframe thead th {\n",
       "        text-align: right;\n",
       "    }\n",
       "</style>\n",
       "<table border=\"1\" class=\"dataframe\">\n",
       "  <thead>\n",
       "    <tr style=\"text-align: right;\">\n",
       "      <th></th>\n",
       "      <th>primaryDomain_s</th>\n",
       "      <th>journalPublisher_s</th>\n",
       "      <th>journalIssn_s</th>\n",
       "      <th>halId_s</th>\n",
       "      <th>docType_s</th>\n",
       "      <th>doiId_s</th>\n",
       "      <th>submittedDate_s</th>\n",
       "      <th>anrProjectAcronym_s</th>\n",
       "      <th>upw_issns</th>\n",
       "      <th>upw_vor_is_oa</th>\n",
       "    </tr>\n",
       "  </thead>\n",
       "  <tbody>\n",
       "    <tr>\n",
       "      <th>3</th>\n",
       "      <td>phys.meca.mefl</td>\n",
       "      <td>Cambridge University Press (CUP)</td>\n",
       "      <td>0022-1120</td>\n",
       "      <td>hal-03559481</td>\n",
       "      <td>ART</td>\n",
       "      <td>10.1017/jfm.2022.658</td>\n",
       "      <td>2022-09-25</td>\n",
       "      <td>NaN</td>\n",
       "      <td>0022-1120,1469-7645</td>\n",
       "      <td>True</td>\n",
       "    </tr>\n",
       "    <tr>\n",
       "      <th>32</th>\n",
       "      <td>sdv.mp.par</td>\n",
       "      <td>Nature Publishing Group</td>\n",
       "      <td>2045-2322</td>\n",
       "      <td>pasteur-03491954</td>\n",
       "      <td>ART</td>\n",
       "      <td>10.1038/s41598-021-99152-9</td>\n",
       "      <td>2021-12-18</td>\n",
       "      <td>NaN</td>\n",
       "      <td>2045-2322</td>\n",
       "      <td>True</td>\n",
       "    </tr>\n",
       "  </tbody>\n",
       "</table>\n",
       "</div>"
      ],
      "text/plain": [
       "   primaryDomain_s                journalPublisher_s journalIssn_s  \\\n",
       "3   phys.meca.mefl  Cambridge University Press (CUP)     0022-1120   \n",
       "32      sdv.mp.par           Nature Publishing Group     2045-2322   \n",
       "\n",
       "             halId_s docType_s                     doiId_s submittedDate_s  \\\n",
       "3       hal-03559481       ART        10.1017/jfm.2022.658      2022-09-25   \n",
       "32  pasteur-03491954       ART  10.1038/s41598-021-99152-9      2021-12-18   \n",
       "\n",
       "   anrProjectAcronym_s            upw_issns  upw_vor_is_oa  \n",
       "3                  NaN  0022-1120,1469-7645           True  \n",
       "32                 NaN            2045-2322           True  "
      ]
     },
     "execution_count": 67,
     "metadata": {},
     "output_type": "execute_result"
    }
   ],
   "source": [
    "## shorder submittedDAte (no hours info)\n",
    "df[\"submittedDate_s\"] = df[\"submittedDate_s\"].str.slice(0,10)\n",
    "df.sample(2)"
   ]
  },
  {
   "cell_type": "code",
   "execution_count": 69,
   "id": "621f8e4a",
   "metadata": {},
   "outputs": [],
   "source": [
    "## lighten anrProject (yes if data, else no)\n",
    "df[\"anrProjectAcronym_s\"] = df[\"anrProjectAcronym_s\"].notna()"
   ]
  },
  {
   "cell_type": "code",
   "execution_count": 42,
   "id": "22ba418d",
   "metadata": {},
   "outputs": [],
   "source": [
    "## make simpler doctype category\n",
    "doctype_matcher = {\n",
    "    \"ART\" : \"article\", \n",
    "    \"UNDEFINED\" : \"preprint\",\n",
    "     \"COMM\" : \"proceedings\",\n",
    "    \"OUV\" : \"book\",\n",
    "     \"COUV\" : \"book\", \n",
    "     \"DOUV\" : \"book\"\n",
    "    }"
   ]
  },
  {
   "cell_type": "code",
   "execution_count": 92,
   "id": "c9120845",
   "metadata": {},
   "outputs": [],
   "source": [
    "def change_doctype(hal_doctype) :\n",
    "    if hal_doctype in doctype_matcher.keys() : \n",
    "        return doctype_matcher[hal_doctype]\n",
    "    else : \n",
    "        return \"other\"\n",
    "    \n",
    "\n",
    "df[\"docType_s\"] = df[\"docType_s\"].apply(lambda x : change_doctype(x))"
   ]
  },
  {
   "cell_type": "code",
   "execution_count": 93,
   "id": "4d5251cc",
   "metadata": {},
   "outputs": [
    {
     "data": {
      "text/plain": [
       "article        48\n",
       "preprint        5\n",
       "proceedings     1\n",
       "Name: docType_s, dtype: int64"
      ]
     },
     "execution_count": 93,
     "metadata": {},
     "output_type": "execute_result"
    }
   ],
   "source": [
    "df.docType_s.value_counts()"
   ]
  },
  {
   "cell_type": "code",
   "execution_count": 94,
   "id": "d145701f",
   "metadata": {},
   "outputs": [
    {
     "data": {
      "text/plain": [
       "Index(['primaryDomain_s', 'journalPublisher_s', 'journalIssn_s', 'halId_s',\n",
       "       'docType_s', 'doiId_s', 'submittedDate_s', 'anrProjectAcronym_s',\n",
       "       'upw_issns', 'upw_vor_is_oa'],\n",
       "      dtype='object')"
      ]
     },
     "execution_count": 94,
     "metadata": {},
     "output_type": "execute_result"
    }
   ],
   "source": [
    "df.columns"
   ]
  },
  {
   "cell_type": "code",
   "execution_count": 95,
   "id": "215c3a66",
   "metadata": {},
   "outputs": [],
   "source": [
    "## remove columns\n",
    "# /!\\/!\\/!\\ first verify column existance /!\\/!\\/!\\\n",
    "df_export = df.drop([\"primaryDomain_s\", \"journalIssn_s\", \"doiId_s\", \"upw_issns\" ], axis = 1)"
   ]
  },
  {
   "cell_type": "code",
   "execution_count": 98,
   "id": "fb449883",
   "metadata": {},
   "outputs": [
    {
     "data": {
      "text/plain": [
       "Index(['journalPublisher_s', 'halId_s', 'docType_s', 'submittedDate_s',\n",
       "       'anrProjectAcronym_s', 'upw_vor_is_oa'],\n",
       "      dtype='object')"
      ]
     },
     "execution_count": 98,
     "metadata": {},
     "output_type": "execute_result"
    }
   ],
   "source": [
    "df_export.columns"
   ]
  },
  {
   "cell_type": "code",
   "execution_count": 99,
   "id": "0a25b701",
   "metadata": {},
   "outputs": [],
   "source": [
    "## reorder column\n",
    "df_export = df[[\"halId_s\", \"docType_s\", \"journalPublisher_s\", \"upw_vor_is_oa\", \"anrProjectAcronym_s\", \"submittedDate_s\"]]"
   ]
  },
  {
   "cell_type": "code",
   "execution_count": 101,
   "id": "185de0a1",
   "metadata": {},
   "outputs": [],
   "source": [
    "## rename column\n",
    "df_export = df_export.rename(columns = \n",
    "                 {'halId_s':'HAL URI', \n",
    "                  'docType_s':'genre', \n",
    "                  \"journalPublisher_s\" : \"publisher\",\n",
    "                  \"upw_vor_is_oa\" : \"publisher vers.\\nis oa\",\n",
    "                  \"anrProjectAcronym_s\" : \"ANR project\",\n",
    "                  \"submittedDate_s\" : \"deposit date\"\n",
    "                 })"
   ]
  },
  {
   "cell_type": "code",
   "execution_count": 102,
   "id": "1c81b588",
   "metadata": {},
   "outputs": [],
   "source": [
    "df_export.to_csv(\"../fr-publications-rrs-applied.csv\", index = False)"
   ]
  },
  {
   "cell_type": "code",
   "execution_count": null,
   "id": "8e9bc03d",
   "metadata": {},
   "outputs": [],
   "source": []
  }
 ],
 "metadata": {
  "kernelspec": {
   "display_name": "Python 3",
   "language": "python",
   "name": "python3"
  },
  "language_info": {
   "codemirror_mode": {
    "name": "ipython",
    "version": 3
   },
   "file_extension": ".py",
   "mimetype": "text/x-python",
   "name": "python",
   "nbconvert_exporter": "python",
   "pygments_lexer": "ipython3",
   "version": "3.9.7"
  }
 },
 "nbformat": 4,
 "nbformat_minor": 5
}
